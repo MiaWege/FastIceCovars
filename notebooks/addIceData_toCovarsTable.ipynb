{
 "cells": [
  {
   "cell_type": "markdown",
   "metadata": {},
   "source": [
    "# This notebook can be used to query NIC for fast ice data\n",
    "The goal is to use the functions herewith to query for fast ice data, and optionally to append the results to the existing version of the covariate grid.  \n",
    "  \n",
    "In this example, we use it to add covariates of ice stability, persistence, and predictability: \n",
    "  * stability is here defined as fast ice being present in the grid cell by end of December of target year (2011)\n",
    "  * persistence is here defined as fast ice being present in the grid cell by end of February of 1 or 2 (or both) years prior\n",
    "  * predictability is here defined as fast ice being present in the grid cell by end of December of anyone of past 5 years"
   ]
  },
  {
   "cell_type": "code",
   "execution_count": 1,
   "metadata": {
    "collapsed": true
   },
   "outputs": [
    {
     "name": "stderr",
     "output_type": "stream",
     "text": [
      "Loading required package: rgdal\n",
      "\n",
      "Loading required package: sp\n",
      "\n",
      "rgdal: version: 1.2-20, (SVN revision 725)\n",
      " Geospatial Data Abstraction Library extensions to R successfully loaded\n",
      " Loaded GDAL runtime: GDAL 2.2.3, released 2017/11/20\n",
      " Path to GDAL shared files: /usr/share/gdal/2.2\n",
      " GDAL binary built with GEOS: TRUE \n",
      " Loaded PROJ.4 runtime: Rel. 4.9.3, 15 August 2016, [PJ_VERSION: 493]\n",
      " Path to PROJ.4 shared files: (autodetected)\n",
      " Linking to sp version: 1.4-1 \n",
      "\n",
      "Loading required package: proj4\n",
      "\n",
      "\n",
      "Attaching package: ‘proj4’\n",
      "\n",
      "\n",
      "The following object is masked from ‘package:rgdal’:\n",
      "\n",
      "    project\n",
      "\n",
      "\n",
      "Loading required package: rgeos\n",
      "\n",
      "rgeos version: 0.5-2, (SVN revision 621)\n",
      " GEOS runtime version: 3.6.2-CAPI-1.10.2 \n",
      " Linking to sp version: 1.4-1 \n",
      " Polygon checking: TRUE \n",
      "\n",
      "\n",
      "Loading required package: maptools\n",
      "\n",
      "Checking rgeos availability: TRUE\n",
      "\n",
      "Loading required package: raster\n",
      "\n",
      "Loading required package: stringr\n",
      "\n",
      "Loading required package: plyr\n",
      "\n",
      "Loading required package: dplyr\n",
      "\n",
      "\n",
      "Attaching package: ‘dplyr’\n",
      "\n",
      "\n",
      "The following objects are masked from ‘package:plyr’:\n",
      "\n",
      "    arrange, count, desc, failwith, id, mutate, rename, summarise,\n",
      "    summarize\n",
      "\n",
      "\n",
      "The following objects are masked from ‘package:raster’:\n",
      "\n",
      "    intersect, select, union\n",
      "\n",
      "\n",
      "The following objects are masked from ‘package:rgeos’:\n",
      "\n",
      "    intersect, setdiff, union\n",
      "\n",
      "\n",
      "The following objects are masked from ‘package:stats’:\n",
      "\n",
      "    filter, lag\n",
      "\n",
      "\n",
      "The following objects are masked from ‘package:base’:\n",
      "\n",
      "    intersect, setdiff, setequal, union\n",
      "\n",
      "\n",
      "Loading required package: xml2\n",
      "\n",
      "Loading required package: httr\n",
      "\n",
      "Loading required package: ggplot2\n",
      "\n",
      "Loading required package: data.table\n",
      "\n",
      "\n",
      "Attaching package: ‘data.table’\n",
      "\n",
      "\n",
      "The following objects are masked from ‘package:dplyr’:\n",
      "\n",
      "    between, first, last\n",
      "\n",
      "\n",
      "The following object is masked from ‘package:raster’:\n",
      "\n",
      "    shift\n",
      "\n",
      "\n"
     ]
    },
    {
     "data": {
      "text/html": [
       "<ol>\n",
       "\t<li>TRUE</li>\n",
       "\t<li>TRUE</li>\n",
       "\t<li>TRUE</li>\n",
       "\t<li>TRUE</li>\n",
       "\t<li>TRUE</li>\n",
       "\t<li>TRUE</li>\n",
       "\t<li>TRUE</li>\n",
       "\t<li>TRUE</li>\n",
       "\t<li>TRUE</li>\n",
       "\t<li>TRUE</li>\n",
       "\t<li>TRUE</li>\n",
       "\t<li>TRUE</li>\n",
       "</ol>\n"
      ],
      "text/latex": [
       "\\begin{enumerate}\n",
       "\\item TRUE\n",
       "\\item TRUE\n",
       "\\item TRUE\n",
       "\\item TRUE\n",
       "\\item TRUE\n",
       "\\item TRUE\n",
       "\\item TRUE\n",
       "\\item TRUE\n",
       "\\item TRUE\n",
       "\\item TRUE\n",
       "\\item TRUE\n",
       "\\item TRUE\n",
       "\\end{enumerate}\n"
      ],
      "text/markdown": [
       "1. TRUE\n",
       "2. TRUE\n",
       "3. TRUE\n",
       "4. TRUE\n",
       "5. TRUE\n",
       "6. TRUE\n",
       "7. TRUE\n",
       "8. TRUE\n",
       "9. TRUE\n",
       "10. TRUE\n",
       "11. TRUE\n",
       "12. TRUE\n",
       "\n",
       "\n"
      ],
      "text/plain": [
       "[[1]]\n",
       "[1] TRUE\n",
       "\n",
       "[[2]]\n",
       "[1] TRUE\n",
       "\n",
       "[[3]]\n",
       "[1] TRUE\n",
       "\n",
       "[[4]]\n",
       "[1] TRUE\n",
       "\n",
       "[[5]]\n",
       "[1] TRUE\n",
       "\n",
       "[[6]]\n",
       "[1] TRUE\n",
       "\n",
       "[[7]]\n",
       "[1] TRUE\n",
       "\n",
       "[[8]]\n",
       "[1] TRUE\n",
       "\n",
       "[[9]]\n",
       "[1] TRUE\n",
       "\n",
       "[[10]]\n",
       "[1] TRUE\n",
       "\n",
       "[[11]]\n",
       "[1] TRUE\n",
       "\n",
       "[[12]]\n",
       "[1] TRUE\n"
      ]
     },
     "metadata": {},
     "output_type": "display_data"
    }
   ],
   "source": [
    "## Loading the libraries\n",
    "list.of.packages <- c(\"rgdal\", \"proj4\",\"rgeos\",\"maptools\",\"raster\",\"stringr\",\"plyr\",\"dplyr\",\"xml2\",\"httr\",\"ggplot2\",\"data.table\")\n",
    "lapply(list.of.packages, require, character.only = TRUE)\n"
   ]
  },
  {
   "cell_type": "code",
   "execution_count": 77,
   "metadata": {},
   "outputs": [],
   "source": [
    "## Setting needed directories\n",
    "pathToGit<-\"/home/ubuntu/fastIce/FastIceCovars/\"\n",
    "nicsavedir<-\"/home/ubuntu/fastIce/nictemp/\"\n",
    "\n",
    "## Sourcing the utilities file\n",
    "source(paste0(pathToGit,\"scripts/fastIceCovars_utils.R\"))\n",
    "\n",
    "## Load the spatialpoints data.frame\n",
    "load(paste0(pathToGit,\"data/studyarea_points_wNearLand.RData\"))"
   ]
  },
  {
   "cell_type": "code",
   "execution_count": 70,
   "metadata": {},
   "outputs": [
    {
     "name": "stdout",
     "output_type": "stream",
     "text": [
      "[1] \"processing single fast ice date\"\n",
      "OGR data source with driver: ESRI Shapefile \n",
      "Source: \"/home/ubuntu/fastIce/nictemp/antarc111226\", layer: \"ANTARC111226\"\n",
      "with 393 features\n",
      "It has 18 fields\n",
      "[1] \"processing single fast ice date\"\n",
      "OGR data source with driver: ESRI Shapefile \n",
      "Source: \"/home/ubuntu/fastIce/nictemp/antarc100222\", layer: \"ANTARC100222\"\n",
      "with 371 features\n",
      "It has 18 fields\n",
      "[1] \"processing single fast ice date\"\n",
      "OGR data source with driver: ESRI Shapefile \n",
      "Source: \"/home/ubuntu/fastIce/nictemp/antarc090223\", layer: \"ANTARC090223\"\n",
      "with 398 features\n",
      "It has 18 fields\n",
      "[1] \"processing single fast ice date\"\n",
      "OGR data source with driver: ESRI Shapefile \n",
      "Source: \"/home/ubuntu/fastIce/nictemp/antarc101227\", layer: \"ANTARC101227\"\n",
      "with 350 features\n",
      "It has 18 fields\n",
      "[1] \"processing single fast ice date\"\n",
      "OGR data source with driver: ESRI Shapefile \n",
      "Source: \"/home/ubuntu/fastIce/nictemp/antarc091228\", layer: \"ANTARC091228\"\n",
      "with 372 features\n",
      "It has 18 fields\n",
      "[1] \"processing single fast ice date\"\n",
      "OGR data source with driver: ESRI Shapefile \n",
      "Source: \"/home/ubuntu/fastIce/nictemp/antarc081222\", layer: \"ANTARC081222\"\n",
      "with 454 features\n",
      "It has 18 fields\n",
      "[1] \"processing single fast ice date\"\n",
      "OGR data source with driver: ESRI Shapefile \n",
      "Source: \"/home/ubuntu/fastIce/nictemp/antarc071224\", layer: \"ANTARC071224\"\n",
      "with 444 features\n",
      "It has 16 fields\n",
      "[1] \"processing single fast ice date\"\n",
      "OGR data source with driver: ESRI Shapefile \n",
      "Source: \"/home/ubuntu/fastIce/nictemp/antarc061214\", layer: \"antarc061214\"\n",
      "with 4929 features\n",
      "It has 20 fields\n"
     ]
    }
   ],
   "source": [
    "## Attribute with ice stability, persistence, and predictability\n",
    "sspdata<-getFastIceSPPdata(spdf=studyarea_pointswLand,iceyear=2011,iceareas=\"\")\n"
   ]
  },
  {
   "cell_type": "code",
   "execution_count": 78,
   "metadata": {},
   "outputs": [
    {
     "data": {
      "text/html": [
       "<table>\n",
       "<caption>A data.frame: 6 × 9</caption>\n",
       "<thead>\n",
       "\t<tr><th></th><th scope=col>pointId</th><th scope=col>DecemberIcePresence</th><th scope=col>Persistence2Years</th><th scope=col>Dec1yP</th><th scope=col>Dec2yP</th><th scope=col>Dec3yP</th><th scope=col>Dec4yP</th><th scope=col>Dec5yP</th><th scope=col>PredictabilityDec5Years</th></tr>\n",
       "\t<tr><th></th><th scope=col>&lt;fct&gt;</th><th scope=col>&lt;dbl&gt;</th><th scope=col>&lt;dbl&gt;</th><th scope=col>&lt;dbl&gt;</th><th scope=col>&lt;dbl&gt;</th><th scope=col>&lt;dbl&gt;</th><th scope=col>&lt;dbl&gt;</th><th scope=col>&lt;dbl&gt;</th><th scope=col>&lt;dbl&gt;</th></tr>\n",
       "</thead>\n",
       "<tbody>\n",
       "\t<tr><th scope=row>1</th><td>1021873</td><td>0</td><td>0</td><td>0</td><td>0</td><td>0</td><td>0</td><td>0</td><td>0</td></tr>\n",
       "\t<tr><th scope=row>2</th><td>1021874</td><td>0</td><td>0</td><td>0</td><td>0</td><td>0</td><td>0</td><td>0</td><td>0</td></tr>\n",
       "\t<tr><th scope=row>3</th><td>1021875</td><td>0</td><td>0</td><td>0</td><td>0</td><td>0</td><td>0</td><td>0</td><td>0</td></tr>\n",
       "\t<tr><th scope=row>4</th><td>1021876</td><td>0</td><td>0</td><td>0</td><td>0</td><td>0</td><td>0</td><td>0</td><td>0</td></tr>\n",
       "\t<tr><th scope=row>5</th><td>1021877</td><td>0</td><td>0</td><td>0</td><td>0</td><td>0</td><td>0</td><td>0</td><td>0</td></tr>\n",
       "\t<tr><th scope=row>6</th><td>1021878</td><td>0</td><td>0</td><td>0</td><td>0</td><td>0</td><td>0</td><td>0</td><td>0</td></tr>\n",
       "</tbody>\n",
       "</table>\n"
      ],
      "text/latex": [
       "A data.frame: 6 × 9\n",
       "\\begin{tabular}{r|lllllllll}\n",
       "  & pointId & DecemberIcePresence & Persistence2Years & Dec1yP & Dec2yP & Dec3yP & Dec4yP & Dec5yP & PredictabilityDec5Years\\\\\n",
       "  & <fct> & <dbl> & <dbl> & <dbl> & <dbl> & <dbl> & <dbl> & <dbl> & <dbl>\\\\\n",
       "\\hline\n",
       "\t1 & 1021873 & 0 & 0 & 0 & 0 & 0 & 0 & 0 & 0\\\\\n",
       "\t2 & 1021874 & 0 & 0 & 0 & 0 & 0 & 0 & 0 & 0\\\\\n",
       "\t3 & 1021875 & 0 & 0 & 0 & 0 & 0 & 0 & 0 & 0\\\\\n",
       "\t4 & 1021876 & 0 & 0 & 0 & 0 & 0 & 0 & 0 & 0\\\\\n",
       "\t5 & 1021877 & 0 & 0 & 0 & 0 & 0 & 0 & 0 & 0\\\\\n",
       "\t6 & 1021878 & 0 & 0 & 0 & 0 & 0 & 0 & 0 & 0\\\\\n",
       "\\end{tabular}\n"
      ],
      "text/markdown": [
       "\n",
       "A data.frame: 6 × 9\n",
       "\n",
       "| <!--/--> | pointId &lt;fct&gt; | DecemberIcePresence &lt;dbl&gt; | Persistence2Years &lt;dbl&gt; | Dec1yP &lt;dbl&gt; | Dec2yP &lt;dbl&gt; | Dec3yP &lt;dbl&gt; | Dec4yP &lt;dbl&gt; | Dec5yP &lt;dbl&gt; | PredictabilityDec5Years &lt;dbl&gt; |\n",
       "|---|---|---|---|---|---|---|---|---|---|\n",
       "| 1 | 1021873 | 0 | 0 | 0 | 0 | 0 | 0 | 0 | 0 |\n",
       "| 2 | 1021874 | 0 | 0 | 0 | 0 | 0 | 0 | 0 | 0 |\n",
       "| 3 | 1021875 | 0 | 0 | 0 | 0 | 0 | 0 | 0 | 0 |\n",
       "| 4 | 1021876 | 0 | 0 | 0 | 0 | 0 | 0 | 0 | 0 |\n",
       "| 5 | 1021877 | 0 | 0 | 0 | 0 | 0 | 0 | 0 | 0 |\n",
       "| 6 | 1021878 | 0 | 0 | 0 | 0 | 0 | 0 | 0 | 0 |\n",
       "\n"
      ],
      "text/plain": [
       "  pointId DecemberIcePresence Persistence2Years Dec1yP Dec2yP Dec3yP Dec4yP\n",
       "1 1021873 0                   0                 0      0      0      0     \n",
       "2 1021874 0                   0                 0      0      0      0     \n",
       "3 1021875 0                   0                 0      0      0      0     \n",
       "4 1021876 0                   0                 0      0      0      0     \n",
       "5 1021877 0                   0                 0      0      0      0     \n",
       "6 1021878 0                   0                 0      0      0      0     \n",
       "  Dec5yP PredictabilityDec5Years\n",
       "1 0      0                      \n",
       "2 0      0                      \n",
       "3 0      0                      \n",
       "4 0      0                      \n",
       "5 0      0                      \n",
       "6 0      0                      "
      ]
     },
     "metadata": {},
     "output_type": "display_data"
    },
    {
     "data": {
      "text/html": [
       "TRUE"
      ],
      "text/latex": [
       "TRUE"
      ],
      "text/markdown": [
       "TRUE"
      ],
      "text/plain": [
       "[1] TRUE"
      ]
     },
     "metadata": {},
     "output_type": "display_data"
    }
   ],
   "source": [
    "head(sspdata);nrow(sspdata)==nrow(studyarea_pointswLand)"
   ]
  },
  {
   "cell_type": "code",
   "execution_count": 79,
   "metadata": {},
   "outputs": [
    {
     "data": {
      "text/html": [
       "<table>\n",
       "<caption>A data.frame: 6 × 25</caption>\n",
       "<thead>\n",
       "\t<tr><th></th><th scope=col>pointid</th><th scope=col>meanslope</th><th scope=col>meanbathy</th><th scope=col>slope</th><th scope=col>bathy</th><th scope=col>shoredist</th><th scope=col>glacierdist</th><th scope=col>nearLineId</th><th scope=col>near_x</th><th scope=col>near_y</th><th scope=col>⋯</th><th scope=col>cont300dist</th><th scope=col>cont800dist</th><th scope=col>DecemberIcePresence</th><th scope=col>Persistence2Years</th><th scope=col>Dec1yP</th><th scope=col>Dec2yP</th><th scope=col>Dec3yP</th><th scope=col>Dec4yP</th><th scope=col>Dec5yP</th><th scope=col>PredictabilityDec5Years</th></tr>\n",
       "\t<tr><th></th><th scope=col>&lt;fct&gt;</th><th scope=col>&lt;dbl&gt;</th><th scope=col>&lt;dbl&gt;</th><th scope=col>&lt;dbl&gt;</th><th scope=col>&lt;dbl&gt;</th><th scope=col>&lt;dbl&gt;</th><th scope=col>&lt;dbl&gt;</th><th scope=col>&lt;dbl&gt;</th><th scope=col>&lt;dbl&gt;</th><th scope=col>&lt;dbl&gt;</th><th scope=col>⋯</th><th scope=col>&lt;dbl&gt;</th><th scope=col>&lt;dbl&gt;</th><th scope=col>&lt;dbl&gt;</th><th scope=col>&lt;dbl&gt;</th><th scope=col>&lt;dbl&gt;</th><th scope=col>&lt;dbl&gt;</th><th scope=col>&lt;dbl&gt;</th><th scope=col>&lt;dbl&gt;</th><th scope=col>&lt;dbl&gt;</th><th scope=col>&lt;dbl&gt;</th></tr>\n",
       "</thead>\n",
       "<tbody>\n",
       "\t<tr><th scope=row>187706</th><td>68791</td><td>2.621992</td><td>-2846.908</td><td>2.5563672</td><td>-2864.911</td><td>206728.3</td><td>247849.6</td><td>2351</td><td>-2273383</td><td>2327082</td><td>⋯</td><td>142791.6</td><td>588996.1</td><td>0</td><td>0</td><td>0</td><td>0</td><td>0</td><td>0</td><td>0</td><td>0</td></tr>\n",
       "\t<tr><th scope=row>187711</th><td>68792</td><td>4.591249</td><td>-2587.330</td><td>4.4836812</td><td>-2612.724</td><td>208790.2</td><td>250334.0</td><td>2351</td><td>-2273383</td><td>2327082</td><td>⋯</td><td>142791.6</td><td>588996.1</td><td>0</td><td>0</td><td>0</td><td>0</td><td>0</td><td>0</td><td>0</td><td>0</td></tr>\n",
       "\t<tr><th scope=row>187798</th><td>68819</td><td>1.411659</td><td>-3014.080</td><td>1.5170590</td><td>-3024.577</td><td>200154.1</td><td>241050.2</td><td>2351</td><td>-2273383</td><td>2327082</td><td>⋯</td><td>138016.9</td><td>584654.8</td><td>0</td><td>0</td><td>0</td><td>0</td><td>0</td><td>0</td><td>0</td><td>0</td></tr>\n",
       "\t<tr><th scope=row>187799</th><td>68820</td><td>1.413779</td><td>-2920.630</td><td>0.7565953</td><td>-2930.036</td><td>202161.9</td><td>243501.3</td><td>2351</td><td>-2273383</td><td>2327082</td><td>⋯</td><td>138016.9</td><td>584654.8</td><td>0</td><td>0</td><td>0</td><td>0</td><td>0</td><td>0</td><td>0</td><td>0</td></tr>\n",
       "\t<tr><th scope=row>187800</th><td>68821</td><td>4.561732</td><td>-2686.220</td><td>4.5623317</td><td>-2716.875</td><td>204263.8</td><td>246029.6</td><td>2351</td><td>-2273383</td><td>2327082</td><td>⋯</td><td>138016.9</td><td>584654.8</td><td>0</td><td>0</td><td>0</td><td>0</td><td>0</td><td>0</td><td>0</td><td>0</td></tr>\n",
       "\t<tr><th scope=row>187801</th><td>68822</td><td>4.902608</td><td>-2264.930</td><td>5.1146288</td><td>-2277.257</td><td>206460.4</td><td>248632.8</td><td>2351</td><td>-2273383</td><td>2327082</td><td>⋯</td><td>138016.9</td><td>584654.8</td><td>0</td><td>0</td><td>0</td><td>0</td><td>0</td><td>0</td><td>0</td><td>0</td></tr>\n",
       "</tbody>\n",
       "</table>\n"
      ],
      "text/latex": [
       "A data.frame: 6 × 25\n",
       "\\begin{tabular}{r|lllllllllllllllllllll}\n",
       "  & pointid & meanslope & meanbathy & slope & bathy & shoredist & glacierdist & nearLineId & near\\_x & near\\_y & ⋯ & cont300dist & cont800dist & DecemberIcePresence & Persistence2Years & Dec1yP & Dec2yP & Dec3yP & Dec4yP & Dec5yP & PredictabilityDec5Years\\\\\n",
       "  & <fct> & <dbl> & <dbl> & <dbl> & <dbl> & <dbl> & <dbl> & <dbl> & <dbl> & <dbl> & ⋯ & <dbl> & <dbl> & <dbl> & <dbl> & <dbl> & <dbl> & <dbl> & <dbl> & <dbl> & <dbl>\\\\\n",
       "\\hline\n",
       "\t187706 & 68791 & 2.621992 & -2846.908 & 2.5563672 & -2864.911 & 206728.3 & 247849.6 & 2351 & -2273383 & 2327082 & ⋯ & 142791.6 & 588996.1 & 0 & 0 & 0 & 0 & 0 & 0 & 0 & 0\\\\\n",
       "\t187711 & 68792 & 4.591249 & -2587.330 & 4.4836812 & -2612.724 & 208790.2 & 250334.0 & 2351 & -2273383 & 2327082 & ⋯ & 142791.6 & 588996.1 & 0 & 0 & 0 & 0 & 0 & 0 & 0 & 0\\\\\n",
       "\t187798 & 68819 & 1.411659 & -3014.080 & 1.5170590 & -3024.577 & 200154.1 & 241050.2 & 2351 & -2273383 & 2327082 & ⋯ & 138016.9 & 584654.8 & 0 & 0 & 0 & 0 & 0 & 0 & 0 & 0\\\\\n",
       "\t187799 & 68820 & 1.413779 & -2920.630 & 0.7565953 & -2930.036 & 202161.9 & 243501.3 & 2351 & -2273383 & 2327082 & ⋯ & 138016.9 & 584654.8 & 0 & 0 & 0 & 0 & 0 & 0 & 0 & 0\\\\\n",
       "\t187800 & 68821 & 4.561732 & -2686.220 & 4.5623317 & -2716.875 & 204263.8 & 246029.6 & 2351 & -2273383 & 2327082 & ⋯ & 138016.9 & 584654.8 & 0 & 0 & 0 & 0 & 0 & 0 & 0 & 0\\\\\n",
       "\t187801 & 68822 & 4.902608 & -2264.930 & 5.1146288 & -2277.257 & 206460.4 & 248632.8 & 2351 & -2273383 & 2327082 & ⋯ & 138016.9 & 584654.8 & 0 & 0 & 0 & 0 & 0 & 0 & 0 & 0\\\\\n",
       "\\end{tabular}\n"
      ],
      "text/markdown": [
       "\n",
       "A data.frame: 6 × 25\n",
       "\n",
       "| <!--/--> | pointid &lt;fct&gt; | meanslope &lt;dbl&gt; | meanbathy &lt;dbl&gt; | slope &lt;dbl&gt; | bathy &lt;dbl&gt; | shoredist &lt;dbl&gt; | glacierdist &lt;dbl&gt; | nearLineId &lt;dbl&gt; | near_x &lt;dbl&gt; | near_y &lt;dbl&gt; | ⋯ ⋯ | cont300dist &lt;dbl&gt; | cont800dist &lt;dbl&gt; | DecemberIcePresence &lt;dbl&gt; | Persistence2Years &lt;dbl&gt; | Dec1yP &lt;dbl&gt; | Dec2yP &lt;dbl&gt; | Dec3yP &lt;dbl&gt; | Dec4yP &lt;dbl&gt; | Dec5yP &lt;dbl&gt; | PredictabilityDec5Years &lt;dbl&gt; |\n",
       "|---|---|---|---|---|---|---|---|---|---|---|---|---|---|---|---|---|---|---|---|---|---|\n",
       "| 187706 | 68791 | 2.621992 | -2846.908 | 2.5563672 | -2864.911 | 206728.3 | 247849.6 | 2351 | -2273383 | 2327082 | ⋯ | 142791.6 | 588996.1 | 0 | 0 | 0 | 0 | 0 | 0 | 0 | 0 |\n",
       "| 187711 | 68792 | 4.591249 | -2587.330 | 4.4836812 | -2612.724 | 208790.2 | 250334.0 | 2351 | -2273383 | 2327082 | ⋯ | 142791.6 | 588996.1 | 0 | 0 | 0 | 0 | 0 | 0 | 0 | 0 |\n",
       "| 187798 | 68819 | 1.411659 | -3014.080 | 1.5170590 | -3024.577 | 200154.1 | 241050.2 | 2351 | -2273383 | 2327082 | ⋯ | 138016.9 | 584654.8 | 0 | 0 | 0 | 0 | 0 | 0 | 0 | 0 |\n",
       "| 187799 | 68820 | 1.413779 | -2920.630 | 0.7565953 | -2930.036 | 202161.9 | 243501.3 | 2351 | -2273383 | 2327082 | ⋯ | 138016.9 | 584654.8 | 0 | 0 | 0 | 0 | 0 | 0 | 0 | 0 |\n",
       "| 187800 | 68821 | 4.561732 | -2686.220 | 4.5623317 | -2716.875 | 204263.8 | 246029.6 | 2351 | -2273383 | 2327082 | ⋯ | 138016.9 | 584654.8 | 0 | 0 | 0 | 0 | 0 | 0 | 0 | 0 |\n",
       "| 187801 | 68822 | 4.902608 | -2264.930 | 5.1146288 | -2277.257 | 206460.4 | 248632.8 | 2351 | -2273383 | 2327082 | ⋯ | 138016.9 | 584654.8 | 0 | 0 | 0 | 0 | 0 | 0 | 0 | 0 |\n",
       "\n"
      ],
      "text/plain": [
       "       pointid meanslope meanbathy slope     bathy     shoredist glacierdist\n",
       "187706 68791   2.621992  -2846.908 2.5563672 -2864.911 206728.3  247849.6   \n",
       "187711 68792   4.591249  -2587.330 4.4836812 -2612.724 208790.2  250334.0   \n",
       "187798 68819   1.411659  -3014.080 1.5170590 -3024.577 200154.1  241050.2   \n",
       "187799 68820   1.413779  -2920.630 0.7565953 -2930.036 202161.9  243501.3   \n",
       "187800 68821   4.561732  -2686.220 4.5623317 -2716.875 204263.8  246029.6   \n",
       "187801 68822   4.902608  -2264.930 5.1146288 -2277.257 206460.4  248632.8   \n",
       "       nearLineId near_x   near_y  ⋯ cont300dist cont800dist\n",
       "187706 2351       -2273383 2327082 ⋯ 142791.6    588996.1   \n",
       "187711 2351       -2273383 2327082 ⋯ 142791.6    588996.1   \n",
       "187798 2351       -2273383 2327082 ⋯ 138016.9    584654.8   \n",
       "187799 2351       -2273383 2327082 ⋯ 138016.9    584654.8   \n",
       "187800 2351       -2273383 2327082 ⋯ 138016.9    584654.8   \n",
       "187801 2351       -2273383 2327082 ⋯ 138016.9    584654.8   \n",
       "       DecemberIcePresence Persistence2Years Dec1yP Dec2yP Dec3yP Dec4yP Dec5yP\n",
       "187706 0                   0                 0      0      0      0      0     \n",
       "187711 0                   0                 0      0      0      0      0     \n",
       "187798 0                   0                 0      0      0      0      0     \n",
       "187799 0                   0                 0      0      0      0      0     \n",
       "187800 0                   0                 0      0      0      0      0     \n",
       "187801 0                   0                 0      0      0      0      0     \n",
       "       PredictabilityDec5Years\n",
       "187706 0                      \n",
       "187711 0                      \n",
       "187798 0                      \n",
       "187799 0                      \n",
       "187800 0                      \n",
       "187801 0                      "
      ]
     },
     "metadata": {},
     "output_type": "display_data"
    },
    {
     "data": {
      "text/html": [
       "TRUE"
      ],
      "text/latex": [
       "TRUE"
      ],
      "text/markdown": [
       "TRUE"
      ],
      "text/plain": [
       "[1] TRUE"
      ]
     },
     "metadata": {},
     "output_type": "display_data"
    }
   ],
   "source": [
    "## Merging with the spatial.points data.frame, and saving it\n",
    "studyarea_pointswLand<-merge(studyarea_pointswLand,sspdata,by.x=\"pointid\",by.y=\"pointId\")\n",
    "head(studyarea_pointswLand);nrow(studyarea_pointswLand)==nrow(sspdata)"
   ]
  },
  {
   "cell_type": "code",
   "execution_count": 81,
   "metadata": {},
   "outputs": [],
   "source": [
    "save(studyarea_pointswLand, file=paste0(pathToGit,\"data/studyarea_points_wNearLand.RData\"))"
   ]
  },
  {
   "cell_type": "code",
   "execution_count": null,
   "metadata": {},
   "outputs": [],
   "source": []
  }
 ],
 "metadata": {
  "kernelspec": {
   "display_name": "R",
   "language": "R",
   "name": "ir"
  },
  "language_info": {
   "codemirror_mode": "r",
   "file_extension": ".r",
   "mimetype": "text/x-r-source",
   "name": "R",
   "pygments_lexer": "r",
   "version": "3.4.4"
  }
 },
 "nbformat": 4,
 "nbformat_minor": 2
}
